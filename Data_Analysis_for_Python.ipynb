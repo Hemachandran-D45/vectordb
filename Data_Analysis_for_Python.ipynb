{
  "nbformat": 4,
  "nbformat_minor": 0,
  "metadata": {
    "colab": {
      "provenance": [],
      "authorship_tag": "ABX9TyPrZued4tIdFsXg1Lmqg9rI",
      "include_colab_link": true
    },
    "kernelspec": {
      "name": "python3",
      "display_name": "Python 3"
    },
    "language_info": {
      "name": "python"
    }
  },
  "cells": [
    {
      "cell_type": "markdown",
      "metadata": {
        "id": "view-in-github",
        "colab_type": "text"
      },
      "source": [
        "<a href=\"https://colab.research.google.com/github/Hemachandran-D45/vectordb/blob/main/Data_Analysis_for_Python.ipynb\" target=\"_parent\"><img src=\"https://colab.research.google.com/assets/colab-badge.svg\" alt=\"Open In Colab\"/></a>"
      ]
    },
    {
      "cell_type": "code",
      "execution_count": 1,
      "metadata": {
        "id": "r6Rfv2IjiYZ4"
      },
      "outputs": [],
      "source": [
        "import pandas as pd\n",
        "\n",
        "url = \"https://raw.githubusercontent.com/cs109/2014_data/master/countries.csv\"\n",
        "df = pd.read_csv(url, header = None)"
      ]
    },
    {
      "cell_type": "code",
      "source": [
        "df #for print entire dataframe but not recommented for large dataset\n",
        "df.head(n) #print first n rows\n",
        "df.tail(n) #print last n rows"
      ],
      "metadata": {
        "id": "XbWtvh7KjBgB"
      },
      "execution_count": null,
      "outputs": []
    },
    {
      "cell_type": "markdown",
      "source": [
        "To Save the file"
      ],
      "metadata": {
        "id": "yBoNPOiIjlO7"
      }
    },
    {
      "cell_type": "code",
      "source": [
        "path = \"path for where to save file\"\n",
        "df.to_csv(path)"
      ],
      "metadata": {
        "id": "wBkdCnfSjrtg"
      },
      "execution_count": null,
      "outputs": []
    },
    {
      "cell_type": "code",
      "source": [
        "dataframe.dtypes #used to check the data type in Pandas"
      ],
      "metadata": {
        "id": "4dtrGGTq8MgC"
      },
      "execution_count": null,
      "outputs": []
    },
    {
      "cell_type": "code",
      "source": [
        "dataframe.describe() #used to return statistcal summary"
      ],
      "metadata": {
        "id": "nhNUkjk378CB"
      },
      "execution_count": null,
      "outputs": []
    },
    {
      "cell_type": "code",
      "source": [
        "dataframe.describe(include = \"all\") #used to Provide full summary"
      ],
      "metadata": {
        "id": "XsQMYBIF8gC6"
      },
      "execution_count": null,
      "outputs": []
    },
    {
      "cell_type": "markdown",
      "source": [
        "Dealing with Missing Data\n",
        "\n",
        "    Check with data collection source\n",
        "    Drop the missing value\n",
        "    Replace the missing value"
      ],
      "metadata": {
        "id": "edzMgzIOD2hS"
      }
    },
    {
      "cell_type": "code",
      "source": [
        "#drop\n",
        "df.dropna() #drop the missing data\n",
        "df.dropna(axis=0) #axis = 0 drop entire row, 1 for entire column"
      ],
      "metadata": {
        "id": "aNDZxoP7D5GR"
      },
      "execution_count": null,
      "outputs": []
    },
    {
      "cell_type": "code",
      "source": [
        "df.dropna(subset = [\"column name\"],axis=0,inplace = True) #drop missing data in specific row and Inplace value true allow to modify data directly\n"
      ],
      "metadata": {
        "id": "PJUvPy_6ETHA"
      },
      "execution_count": null,
      "outputs": []
    },
    {
      "cell_type": "code",
      "source": [
        "# Replace data with mean value\n",
        "\n",
        "mean = df[\"column name\"].mean()\n",
        "df[\"column name\"].replace(np.nan,mean)"
      ],
      "metadata": {
        "id": "KLh4BVyYEws4"
      },
      "execution_count": null,
      "outputs": []
    },
    {
      "cell_type": "markdown",
      "source": [
        "Replace NaN in \"stroke\" column with the mean value."
      ],
      "metadata": {
        "id": "8veXzlyu0K7Z"
      }
    },
    {
      "cell_type": "code",
      "source": [
        "\n",
        "avg_stroke = df[\"stroke\"].astype(\"float\").mean(axis=0)\n",
        "df[\"stroke\"].replace(np.nan, avg_stroke, inplace=True)"
      ],
      "metadata": {
        "id": "EIcFD6eKz9lX"
      },
      "execution_count": null,
      "outputs": []
    },
    {
      "cell_type": "code",
      "source": [
        "#Applying Calculation to the entire column\n",
        "#convert \"mpg\" to L/100km by mathematical operation (235 divided by mpg)\n",
        "df[\"city-mpg\"] = 235/df[\"city-mpg\"]\n",
        "df.rename(columns = {\"city-mpg\":\"city-L/100km\"},inplace = True) #change the column name"
      ],
      "metadata": {
        "id": "hYXSkacHH1DF"
      },
      "execution_count": null,
      "outputs": []
    },
    {
      "cell_type": "markdown",
      "source": [
        "According to the example above, transform mpg to L/100km in the column of \"highway-mpg\" and change the name of column to \"highway-L/100km\"."
      ],
      "metadata": {
        "id": "1AJYysqs0JVx"
      }
    },
    {
      "cell_type": "code",
      "source": [
        "df[\"highway-mpg\"] = 235/df[\"highway-mpg\"]\n",
        "df.rename(columns={'highway-mpg':'highway-L/100km'}, inplace=True)\n",
        "df.head()"
      ],
      "metadata": {
        "id": "xBJJGIuA0S8S"
      },
      "execution_count": null,
      "outputs": []
    },
    {
      "cell_type": "code",
      "source": [
        "#Correcting Datatype\n",
        "#Identify the datatype\n",
        "df.dtypes()\n",
        "#convert data type\n",
        "df.astype()\n",
        "\n",
        "#Eg:\n",
        "df[[\"bore\",\"stroke\"]] = df[[\"bore\",\"stroke\"]].astype(\"float\")\n",
        "df[[\"normalized-losses\"]] = df[[\"normalized-losses\"]].astype(\"int\")"
      ],
      "metadata": {
        "id": "7Gx4UhO9IJv6"
      },
      "execution_count": null,
      "outputs": []
    },
    {
      "cell_type": "markdown",
      "source": [
        "#Data Normalization\n",
        "The process of organizing data in a structured format to make it easier to work with analyse\n",
        "\n",
        "There are three method"
      ],
      "metadata": {
        "id": "FBvCRq7UBHnV"
      }
    },
    {
      "cell_type": "code",
      "source": [
        "#Simple Feature Scaling\n",
        "Xnew = Xold/Xmax\n",
        "df[\"length\"] = df[\"length\"]/df[\"length\"].max()\n",
        "\n"
      ],
      "metadata": {
        "id": "tmKM1d0iAoJx"
      },
      "execution_count": null,
      "outputs": []
    },
    {
      "cell_type": "code",
      "source": [
        "#Min-Max\n",
        "Xnew = (Xold-Xmin)/(Xmax-Xmin)\n",
        "df[\"length\"] = (df[\"length\"]-df[\"length\"].min())/(df[\"length\"].max()-df[\"length\"].min())"
      ],
      "metadata": {
        "id": "qBSQ3rKLBmQc"
      },
      "execution_count": null,
      "outputs": []
    },
    {
      "cell_type": "code",
      "source": [
        "#Z-Score\n",
        "Xnew = (Xold-mean)/std\n",
        "df[\"length\"] = (df[\"length\"]-df[\"length\"].mean())/df[\"length\"].std()"
      ],
      "metadata": {
        "id": "CcgPLa2qBwzl"
      },
      "execution_count": null,
      "outputs": []
    },
    {
      "cell_type": "markdown",
      "source": [
        "#Binning\n",
        "Simply called Bucketing , It is the preprocessing technique that group numerical value into bins or buck"
      ],
      "metadata": {
        "id": "OEI49uyRhaQu"
      }
    },
    {
      "cell_type": "code",
      "source": [
        "bins = np.linspace(min(df[\"price\"],max(df['price'])), 4)\n",
        "group_names = [\"Low\",\"Medium\",\"High\"]\n",
        "df[\"price-binned\"] = pd.cut(df[\"price\"],bins,labels = group_names,include_lowest = True)"
      ],
      "metadata": {
        "id": "8nO2Msihhx4B"
      },
      "execution_count": null,
      "outputs": []
    },
    {
      "cell_type": "code",
      "source": [
        "#Turning Categorial Variables to Quantitative Variable\n",
        "\"Most of the model cannot take object, string as input \"\n",
        "    #Use dummy variable for each unique category and Assign 0 or 1 in each category\n",
        "\n",
        "#using One hot Encoding and use pandas.get_dummies() method\n",
        "\n",
        "pd.get_dummies(df[\"fuel\"])\n"
      ],
      "metadata": {
        "id": "neNCvSBIl8so"
      },
      "execution_count": null,
      "outputs": []
    },
    {
      "cell_type": "markdown",
      "source": [
        "To see which values are present in a particular column, we can use the \".value_counts()\" method:"
      ],
      "metadata": {
        "id": "pk0_HnxKyA1q"
      }
    },
    {
      "cell_type": "code",
      "source": [
        "df[\"no_of_doors\"].value_counts()\n"
      ],
      "metadata": {
        "id": "ZTK9JumRxbbR"
      },
      "execution_count": null,
      "outputs": []
    },
    {
      "cell_type": "markdown",
      "source": [
        "We can see that four doors are the most common type. We can also use the \".idxmax()\" method to calculate the most common type automatically:"
      ],
      "metadata": {
        "id": "SMho6I-fyKc4"
      }
    },
    {
      "cell_type": "code",
      "source": [
        "df[\"no_of_doors\"].value_counts().idxmax()"
      ],
      "metadata": {
        "id": "i5hcWSt1yK8C"
      },
      "execution_count": null,
      "outputs": []
    },
    {
      "cell_type": "markdown",
      "source": [
        "#EDA\n",
        "\n",
        "    Descriptive Statistics\n",
        "    Group BY\n",
        "    ANOVA - Analysis of Variance\n",
        "    Correlation\n",
        "    Correlation - Statistics"
      ],
      "metadata": {
        "id": "mk_ak13GUUVV"
      }
    },
    {
      "cell_type": "code",
      "source": [
        "#Descriptive Statistics\n",
        "df.describe()\n",
        "#its show mean, total number of data points, std etc"
      ],
      "metadata": {
        "id": "x6hCtwT6TIcu"
      },
      "execution_count": null,
      "outputs": []
    },
    {
      "cell_type": "code",
      "source": [
        "# Summarizing the categorical data\n",
        "df.value_counts()\n",
        "\n",
        "#Eg\n",
        "drive_wheels_counts = df['drive-wheels'].value_counts().to_frame()\n",
        "drive_wheels_counts.rename(columns={'drive-wheels': 'value_counts'}, inplace=True)\n",
        "drive_wheels_counts.index.name = 'drive-wheels'\n"
      ],
      "metadata": {
        "id": "LLK4MTThVGzJ"
      },
      "execution_count": null,
      "outputs": []
    },
    {
      "cell_type": "code",
      "source": [
        "#Group By method\n",
        "dataframe.groupby()  #group a data"
      ],
      "metadata": {
        "id": "-EKffIdhVc-Z"
      },
      "execution_count": null,
      "outputs": []
    },
    {
      "cell_type": "code",
      "source": [],
      "metadata": {
        "id": "JFjTOY2AVtjM"
      },
      "execution_count": null,
      "outputs": []
    }
  ]
}