{
  "nbformat": 4,
  "nbformat_minor": 0,
  "metadata": {
    "colab": {
      "provenance": [],
      "toc_visible": true,
      "authorship_tag": "ABX9TyOvD44jvLG7hVnXc/aK7dTQ",
      "include_colab_link": true
    },
    "kernelspec": {
      "name": "python3",
      "display_name": "Python 3"
    },
    "language_info": {
      "name": "python"
    }
  },
  "cells": [
    {
      "cell_type": "markdown",
      "metadata": {
        "id": "view-in-github",
        "colab_type": "text"
      },
      "source": [
        "<a href=\"https://colab.research.google.com/github/Hemachandran-D45/vectordb/blob/main/Day2-Chromadb.ipynb\" target=\"_parent\"><img src=\"https://colab.research.google.com/assets/colab-badge.svg\" alt=\"Open In Colab\"/></a>"
      ]
    },
    {
      "cell_type": "code",
      "execution_count": 1,
      "metadata": {
        "collapsed": true,
        "id": "RsXNAO1bM9jI"
      },
      "outputs": [],
      "source": [
        "!pip install chromadb -q"
      ]
    },
    {
      "cell_type": "code",
      "source": [
        "!pip install sentence-transformers -q"
      ],
      "metadata": {
        "collapsed": true,
        "id": "dUH1jlGYNDwq"
      },
      "execution_count": 2,
      "outputs": []
    },
    {
      "cell_type": "code",
      "source": [
        "import chromadb\n",
        "\n",
        "client = chromadb.Client()\n",
        "collection = client.create_collection(name = \"vectordb\")\n"
      ],
      "metadata": {
        "id": "Mj8BQNN3NKhA"
      },
      "execution_count": 3,
      "outputs": []
    },
    {
      "cell_type": "markdown",
      "source": [
        "By default, Chroma uses the sentence transformers all-MiniLM-L6-v2 model to create embeddings."
      ],
      "metadata": {
        "id": "6CXGQQqiNhpv"
      }
    },
    {
      "cell_type": "code",
      "source": [
        "collection.add(\n",
        "    documents = [\"This is document about car\",\"This is document about cat\"],\n",
        "    metadatas = [{\"category\":\"vehicle\"}, {\"category\":\"animal\"}],\n",
        "    ids = [\"id1\",\"id2\"]\n",
        ")"
      ],
      "metadata": {
        "id": "IqK3lmpZQaRu"
      },
      "execution_count": 4,
      "outputs": []
    },
    {
      "cell_type": "markdown",
      "source": [
        "Store data on by using add method in the form of\n",
        "document(list),metadata(list of dic),ids\n",
        "finally try to get the result using query\n"
      ],
      "metadata": {
        "id": "BZx1TWRKOhuP"
      }
    },
    {
      "cell_type": "code",
      "source": [
        "result = collection.query(\n",
        "    query_texts = [\"vehicle\"],\n",
        "    n_results=1\n",
        ")\n",
        "print(result)"
      ],
      "metadata": {
        "colab": {
          "base_uri": "https://localhost:8080/"
        },
        "id": "-jSrasR9Nf_Z",
        "outputId": "2588aae7-8af3-4883-d875-d330800ebe4a"
      },
      "execution_count": 5,
      "outputs": [
        {
          "output_type": "stream",
          "name": "stdout",
          "text": [
            "{'ids': [['id1']], 'distances': [[0.7801951169967651]], 'metadatas': [[{'category': 'vehicle'}]], 'embeddings': None, 'documents': [['This is document about car']], 'uris': None, 'data': None, 'included': ['metadatas', 'documents', 'distances']}\n"
          ]
        }
      ]
    }
  ]
}