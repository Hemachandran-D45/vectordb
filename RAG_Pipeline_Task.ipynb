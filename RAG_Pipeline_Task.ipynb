{
  "nbformat": 4,
  "nbformat_minor": 0,
  "metadata": {
    "colab": {
      "provenance": [],
      "authorship_tag": "ABX9TyPBYDluvt1EbeZRzxwSaJ5m",
      "include_colab_link": true
    },
    "kernelspec": {
      "name": "python3",
      "display_name": "Python 3"
    },
    "language_info": {
      "name": "python"
    }
  },
  "cells": [
    {
      "cell_type": "markdown",
      "metadata": {
        "id": "view-in-github",
        "colab_type": "text"
      },
      "source": [
        "<a href=\"https://colab.research.google.com/github/Hemachandran-D45/vectordb/blob/main/RAG_Pipeline_Task.ipynb\" target=\"_parent\"><img src=\"https://colab.research.google.com/assets/colab-badge.svg\" alt=\"Open In Colab\"/></a>"
      ]
    },
    {
      "cell_type": "code",
      "execution_count": 38,
      "metadata": {
        "id": "cs6BC41jUR1X"
      },
      "outputs": [],
      "source": [
        "!pip install langchain_community -q\n",
        "!pip install langchain_huggingface -q\n",
        "!pip install huggingface_hub -q\n",
        "!pip install langchain_core -q"
      ]
    },
    {
      "cell_type": "code",
      "source": [
        "from langchain_community.document_loaders import TextLoader\n",
        "loader = TextLoader(\"/content/RohitSharma.txt\")\n",
        "loader.load()"
      ],
      "metadata": {
        "id": "tEz8njFLUhFb"
      },
      "execution_count": null,
      "outputs": []
    },
    {
      "cell_type": "code",
      "source": [
        "rohit_doc = loader.load()"
      ],
      "metadata": {
        "id": "Uz8SvPGEcYu8"
      },
      "execution_count": 6,
      "outputs": []
    },
    {
      "cell_type": "code",
      "source": [
        "from langchain.text_splitter import RecursiveCharacterTextSplitter"
      ],
      "metadata": {
        "id": "WAuY6yBlbL8n"
      },
      "execution_count": 4,
      "outputs": []
    },
    {
      "cell_type": "code",
      "source": [
        "text_splitter = RecursiveCharacterTextSplitter(\n",
        "    chunk_size=1000,\n",
        "    chunk_overlap=100\n",
        ")"
      ],
      "metadata": {
        "id": "b566yTReYMhN"
      },
      "execution_count": 52,
      "outputs": []
    },
    {
      "cell_type": "code",
      "source": [
        "documents =text_splitter.split_documents(rohit_doc)"
      ],
      "metadata": {
        "id": "DDelsHI_by7-"
      },
      "execution_count": 20,
      "outputs": []
    },
    {
      "cell_type": "code",
      "source": [
        "#for i, chunk in enumerate(documents):\n",
        " # print(f\"Chunk {i+1} (Length: {len(chunk.page_content)} character)\")\n",
        "  #print(chunk.page_content)"
      ],
      "metadata": {
        "id": "IZIOrb74co55"
      },
      "execution_count": null,
      "outputs": []
    },
    {
      "cell_type": "code",
      "source": [
        "!pip install chromadb -q\n",
        "!pip install tiktoken -q"
      ],
      "metadata": {
        "id": "Qm9kqK2WdxiO"
      },
      "execution_count": 28,
      "outputs": []
    },
    {
      "cell_type": "code",
      "source": [
        "from langchain.vectorstores import Chroma\n",
        "from langchain.embeddings import HuggingFaceEmbeddings"
      ],
      "metadata": {
        "id": "wbdy9z3Cd6Km"
      },
      "execution_count": 29,
      "outputs": []
    },
    {
      "cell_type": "code",
      "source": [
        "db = Chroma.from_documents(documents, HuggingFaceEmbeddings())"
      ],
      "metadata": {
        "id": "MjnJfF4qePo_"
      },
      "execution_count": null,
      "outputs": []
    },
    {
      "cell_type": "code",
      "source": [
        "!pip install transformers langchain_huggingface"
      ],
      "metadata": {
        "id": "xt4vM1PC26R7"
      },
      "execution_count": null,
      "outputs": []
    },
    {
      "cell_type": "code",
      "source": [
        "from transformers import pipeline\n",
        "from langchain.llms import HuggingFacePipeline\n",
        "\n",
        "\n",
        "hf_pipeline = pipeline(\"question-answering\", model=\"deepset/roberta-base-squad2\" , max_new_tokens = 250)\n",
        "\n",
        "llm = HuggingFacePipeline(pipeline=hf_pipeline)"
      ],
      "metadata": {
        "id": "nivvxaPP2cA7"
      },
      "execution_count": null,
      "outputs": []
    },
    {
      "cell_type": "code",
      "source": [
        "query= \"Who was the sucessful captain in India?\"\n",
        "result = db.similarity_search(query)"
      ],
      "metadata": {
        "id": "xv-zobV95mNy"
      },
      "execution_count": 83,
      "outputs": []
    },
    {
      "cell_type": "code",
      "source": [
        "response = hf_pipeline({\n",
        "    \"question\": query,\n",
        "    \"context\": result[0].page_content,\n",
        "})\n",
        "print(response['answer'])"
      ],
      "metadata": {
        "colab": {
          "base_uri": "https://localhost:8080/"
        },
        "id": "YJdoxPB_7DTe",
        "outputId": "301bb587-f127-4b57-9859-5d4471b94c5b"
      },
      "execution_count": 85,
      "outputs": [
        {
          "output_type": "stream",
          "name": "stdout",
          "text": [
            "Rohit Sharma\n"
          ]
        }
      ]
    },
    {
      "cell_type": "code",
      "source": [],
      "metadata": {
        "id": "iIbv1IUj8TrJ"
      },
      "execution_count": null,
      "outputs": []
    }
  ]
}