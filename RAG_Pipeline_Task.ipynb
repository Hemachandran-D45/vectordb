{
  "cells": [
    {
      "cell_type": "markdown",
      "metadata": {
        "id": "view-in-github",
        "colab_type": "text"
      },
      "source": [
        "<a href=\"https://colab.research.google.com/github/Hemachandran-D45/vectordb/blob/main/RAG_Pipeline_Task.ipynb\" target=\"_parent\"><img src=\"https://colab.research.google.com/assets/colab-badge.svg\" alt=\"Open In Colab\"/></a>"
      ]
    },
    {
      "cell_type": "code",
      "execution_count": 1,
      "metadata": {
        "id": "cs6BC41jUR1X"
      },
      "outputs": [],
      "source": [
        "!pip install langchain_community -q\n",
        "!pip install langchain_huggingface -q\n",
        "!pip install huggingface_hub -q\n",
        "!pip install langchain_core -q"
      ]
    },
    {
      "cell_type": "code",
      "execution_count": null,
      "metadata": {
        "id": "tEz8njFLUhFb"
      },
      "outputs": [],
      "source": [
        "from langchain_community.document_loaders import TextLoader\n",
        "loader = TextLoader(\"/content/RohitSharma.txt\")\n",
        "loader.load()"
      ]
    },
    {
      "cell_type": "code",
      "execution_count": 3,
      "metadata": {
        "id": "Uz8SvPGEcYu8"
      },
      "outputs": [],
      "source": [
        "rohit_doc = loader.load()"
      ]
    },
    {
      "cell_type": "code",
      "execution_count": 4,
      "metadata": {
        "id": "WAuY6yBlbL8n"
      },
      "outputs": [],
      "source": [
        "from langchain.text_splitter import RecursiveCharacterTextSplitter"
      ]
    },
    {
      "cell_type": "code",
      "execution_count": 5,
      "metadata": {
        "id": "b566yTReYMhN"
      },
      "outputs": [],
      "source": [
        "text_splitter = RecursiveCharacterTextSplitter(\n",
        "    chunk_size=1000,\n",
        "    chunk_overlap=100\n",
        ")"
      ]
    },
    {
      "cell_type": "code",
      "execution_count": 6,
      "metadata": {
        "id": "DDelsHI_by7-"
      },
      "outputs": [],
      "source": [
        "documents =text_splitter.split_documents(rohit_doc)"
      ]
    },
    {
      "cell_type": "code",
      "execution_count": 7,
      "metadata": {
        "id": "IZIOrb74co55"
      },
      "outputs": [],
      "source": [
        "#for i, chunk in enumerate(documents):\n",
        " # print(f\"Chunk {i+1} (Length: {len(chunk.page_content)} character)\")\n",
        "  #print(chunk.page_content)"
      ]
    },
    {
      "cell_type": "code",
      "execution_count": 8,
      "metadata": {
        "id": "Qm9kqK2WdxiO"
      },
      "outputs": [],
      "source": [
        "!pip install chromadb -q"
      ]
    },
    {
      "cell_type": "code",
      "execution_count": 9,
      "metadata": {
        "id": "wbdy9z3Cd6Km"
      },
      "outputs": [],
      "source": [
        "from langchain.vectorstores import Chroma\n",
        "from langchain.embeddings import HuggingFaceEmbeddings"
      ]
    },
    {
      "cell_type": "code",
      "execution_count": null,
      "metadata": {
        "id": "MjnJfF4qePo_"
      },
      "outputs": [],
      "source": [
        "db = Chroma.from_documents(documents, HuggingFaceEmbeddings())"
      ]
    },
    {
      "cell_type": "code",
      "execution_count": 11,
      "metadata": {
        "id": "xt4vM1PC26R7"
      },
      "outputs": [],
      "source": [
        "import os\n",
        "from langchain.llms import HuggingFaceHub\n",
        "from google.colab import userdata\n",
        "sec_key = userdata.get(\"Rag_Pipeline\")"
      ]
    },
    {
      "cell_type": "code",
      "execution_count": 30,
      "metadata": {
        "id": "nivvxaPP2cA7"
      },
      "outputs": [],
      "source": [
        "os.environ['HUGGINGFACEHUB_API_TOKEN'] = sec_key\n",
        "repo_id = \"google/flan-t5-large\"\n",
        "task = \"text2text-generation\"\n",
        "\n"
      ]
    },
    {
      "cell_type": "code",
      "source": [
        "llm = HuggingFaceHub(repo_id=repo_id, task=task)"
      ],
      "metadata": {
        "id": "0Cf-TpQWC3AI"
      },
      "execution_count": 38,
      "outputs": []
    },
    {
      "cell_type": "code",
      "execution_count": 32,
      "metadata": {
        "id": "xv-zobV95mNy"
      },
      "outputs": [],
      "source": [
        "from langchain_core.prompts import ChatPromptTemplate\n",
        "prompt = ChatPromptTemplate.from_template(\"\"\"\n",
        "Answer the question based only on provided information.\n",
        "{context}\n",
        "Question: {input}\"\"\")"
      ]
    },
    {
      "cell_type": "code",
      "execution_count": 33,
      "metadata": {
        "id": "YJdoxPB_7DTe"
      },
      "outputs": [],
      "source": [
        "from langchain.chains.combine_documents import create_stuff_documents_chain\n",
        "document_chain = create_stuff_documents_chain(llm, prompt)\n"
      ]
    },
    {
      "cell_type": "code",
      "source": [
        "retriever = db.as_retriever()"
      ],
      "metadata": {
        "id": "a7C1dBNuSDaI"
      },
      "execution_count": 34,
      "outputs": []
    },
    {
      "cell_type": "code",
      "execution_count": 35,
      "metadata": {
        "id": "iIbv1IUj8TrJ"
      },
      "outputs": [],
      "source": [
        "from langchain.chains import create_retrieval_chain\n",
        "retrieval_chain = create_retrieval_chain(retriever,document_chain)"
      ]
    },
    {
      "cell_type": "code",
      "source": [
        "response=retrieval_chain.invoke({\"input\":\"You won the T20 World Cup 2024\"})"
      ],
      "metadata": {
        "id": "Sm6wIj7mLIyX"
      },
      "execution_count": 40,
      "outputs": []
    },
    {
      "cell_type": "code",
      "source": [
        "response"
      ],
      "metadata": {
        "id": "VbqBHosrTz3r"
      },
      "execution_count": null,
      "outputs": []
    },
    {
      "cell_type": "code",
      "source": [
        "response['answer']"
      ],
      "metadata": {
        "colab": {
          "base_uri": "https://localhost:8080/",
          "height": 35
        },
        "id": "hP5ZP5rPTndO",
        "outputId": "19282705-9ede-47f4-e6f1-3a432c567418"
      },
      "execution_count": 41,
      "outputs": [
        {
          "output_type": "execute_result",
          "data": {
            "text/plain": [
              "'Rohit Sharma'"
            ],
            "application/vnd.google.colaboratory.intrinsic+json": {
              "type": "string"
            }
          },
          "metadata": {},
          "execution_count": 41
        }
      ]
    },
    {
      "cell_type": "code",
      "source": [],
      "metadata": {
        "id": "cHHfnm5UTwlU"
      },
      "execution_count": null,
      "outputs": []
    }
  ],
  "metadata": {
    "colab": {
      "provenance": [],
      "authorship_tag": "ABX9TyNAyV56eZ3HR0+8Gp9BZABe",
      "include_colab_link": true
    },
    "kernelspec": {
      "display_name": "Python 3",
      "name": "python3"
    },
    "language_info": {
      "name": "python"
    }
  },
  "nbformat": 4,
  "nbformat_minor": 0
}