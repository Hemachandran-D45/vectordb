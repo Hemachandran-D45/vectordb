{
  "nbformat": 4,
  "nbformat_minor": 0,
  "metadata": {
    "colab": {
      "provenance": [],
      "authorship_tag": "ABX9TyNZBOjiyWinAwLYRVjAVuXl",
      "include_colab_link": true
    },
    "kernelspec": {
      "name": "python3",
      "display_name": "Python 3"
    },
    "language_info": {
      "name": "python"
    }
  },
  "cells": [
    {
      "cell_type": "markdown",
      "metadata": {
        "id": "view-in-github",
        "colab_type": "text"
      },
      "source": [
        "<a href=\"https://colab.research.google.com/github/Hemachandran-D45/vectordb/blob/main/Day2Chromadb2-EOD.ipynb\" target=\"_parent\"><img src=\"https://colab.research.google.com/assets/colab-badge.svg\" alt=\"Open In Colab\"/></a>"
      ]
    },
    {
      "cell_type": "code",
      "execution_count": 1,
      "metadata": {
        "id": "5Q1oQYyjsfxv"
      },
      "outputs": [],
      "source": [
        "import os\n",
        "\n",
        "def read_file(folder_path):\n",
        "  file_data = []\n",
        "  for file_name in os.listdir(folder_path):\n",
        "    if file_name.endswith(\".txt\"):\n",
        "      with open(os.path.join(folder_path,file_name), \"r\") as file:\n",
        "        content = file.read()\n",
        "        file_data.append({\"file_name\" : file_name, \"content\" : content})\n",
        "  return file_data"
      ]
    },
    {
      "cell_type": "markdown",
      "source": [
        "Firstly, I import os module because operating system aloowing us to perform some task with file and directory manupulation. Simply we can say interact with different operating system and manage file, directory, and handling path."
      ],
      "metadata": {
        "id": "uqq0pYZ3sp2w"
      }
    },
    {
      "cell_type": "markdown",
      "source": [
        "Create a function name read_file that having a parameter as folder_path\n",
        "Also having a empty list as file_data will store each .txt file\n",
        "And Loop through file_name in the folder_path\n",
        "os.listdir() get the list of all file inside that folder_path\n",
        "Then Check whether file end with .txt format file_name.endswith(\".txt). if it is the text file then open the file in read mode using\"r\"\n",
        "open(os.path.join(folder_name,file_name) \"r\") then i use read method read()\n",
        "then adding into file_data list as dictionary\n",
        "then return it"
      ],
      "metadata": {
        "id": "n0SEaGRwsmMj"
      }
    },
    {
      "cell_type": "code",
      "source": [
        "!unzip -q new_articles.zip -d new_articles"
      ],
      "metadata": {
        "id": "A4x0tqhustXg"
      },
      "execution_count": 2,
      "outputs": []
    },
    {
      "cell_type": "markdown",
      "source": [
        "i upload a zip file from my computer to colab drive which have several text file then extract everything from that . unzip -- we have to use only linux command cuz colab running on linux os. thats why I use os.path.join so if it linux (/forward slash) and if it is window (\\backward slash)"
      ],
      "metadata": {
        "id": "wl6o6LB8s1F_"
      }
    },
    {
      "cell_type": "code",
      "source": [
        "folder_path = \"new_articles\"\n",
        "file_data = read_file(folder_path)\n",
        "\n",
        "for data in file_data:\n",
        "  print(f\"File Name : {data['file_name']}\")\n",
        "  print(f\"Content: {data['content']}\\n\")\n",
        "  print(\"---------------------\")"
      ],
      "metadata": {
        "collapsed": true,
        "id": "u7Un2M0bs38r"
      },
      "execution_count": null,
      "outputs": []
    },
    {
      "cell_type": "markdown",
      "source": [
        "Here we setting up the folder_path and calling read_file\n",
        "for loop iterate each dictionary in the file data and print file name and content"
      ],
      "metadata": {
        "id": "v7Ui0DMvs6aE"
      }
    },
    {
      "cell_type": "code",
      "source": [
        "document = []\n",
        "metadata = []\n",
        "ids = []\n",
        "for index,data in enumerate(file_data):\n",
        "  document.append({data[\"content\"]})\n",
        "  metadata.append({\"source\": data[\"file_name\"]})\n",
        "  ids.append(str(index+1))"
      ],
      "metadata": {
        "id": "SXTtJG4Ys88D"
      },
      "execution_count": 4,
      "outputs": []
    },
    {
      "cell_type": "code",
      "source": [
        "metadata"
      ],
      "metadata": {
        "collapsed": true,
        "id": "-sbUAWjws-3Q"
      },
      "execution_count": null,
      "outputs": []
    },
    {
      "cell_type": "code",
      "source": [
        "!pip install chromadb -q\n",
        "!pip install sentence_transformers -q"
      ],
      "metadata": {
        "collapsed": true,
        "id": "Hn2Zcpn3tXSf"
      },
      "execution_count": null,
      "outputs": []
    },
    {
      "cell_type": "code",
      "source": [
        "import chromadb"
      ],
      "metadata": {
        "id": "1ytN-MRrtEI4"
      },
      "execution_count": 14,
      "outputs": []
    },
    {
      "cell_type": "code",
      "source": [
        "from chromadb.config import Settings"
      ],
      "metadata": {
        "id": "yimzA-LAuRYw"
      },
      "execution_count": 13,
      "outputs": []
    },
    {
      "cell_type": "code",
      "source": [
        "settings = Settings(\n",
        "    chroma_db_impl = \"duckdb+parquet\",\n",
        "    persist_directory = \"new_articles_db\"\n",
        ")\n",
        "client = chromadb.Client(settings)"
      ],
      "metadata": {
        "collapsed": true,
        "id": "raNc0XNVt1QK"
      },
      "execution_count": null,
      "outputs": []
    }
  ]
}